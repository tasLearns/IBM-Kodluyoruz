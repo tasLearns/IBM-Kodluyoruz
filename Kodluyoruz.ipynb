{
 "cells": [
  {
   "cell_type": "code",
   "execution_count": 1,
   "id": "ecccba84-c7cb-4d86-86d7-1ce8d8536341",
   "metadata": {},
   "outputs": [],
   "source": [
    "notlar=[2,3,4,5,6\n",
    "       ]"
   ]
  },
  {
   "cell_type": "code",
   "execution_count": 2,
   "id": "e8abd150-6009-4bf9-836a-a6cee53d70ae",
   "metadata": {},
   "outputs": [
    {
     "data": {
      "text/plain": [
       "[2, 3, 4, 5, 6]"
      ]
     },
     "execution_count": 2,
     "metadata": {},
     "output_type": "execute_result"
    }
   ],
   "source": [
    "notlar"
   ]
  },
  {
   "cell_type": "code",
   "execution_count": 3,
   "id": "c0c508fe-a2d7-46dd-ba14-b463449cbfe9",
   "metadata": {},
   "outputs": [
    {
     "data": {
      "text/plain": [
       "5"
      ]
     },
     "execution_count": 3,
     "metadata": {},
     "output_type": "execute_result"
    }
   ],
   "source": [
    "notlar[3]"
   ]
  },
  {
   "cell_type": "code",
   "execution_count": 5,
   "id": "2ab3a41d-7140-4039-9163-cd7844f7ce57",
   "metadata": {},
   "outputs": [],
   "source": [
    "#üstte listleri anlattı tuple falan not alcam gerisi ok benzer tamamen\n",
    "#list içerisindeki değişkenler birbirinden farklı olabilir (mixed type)\n",
    "#sondan başlaması için notlar[-1] verebiliyorum sondan ilk elemanı getiriyor\n",
    "#slicing  notlar[1:3] 1-3 3.indexi almaz\n",
    "#notlar[:3] baştan 2 ye kadar tersi de geçerli\n",
    "#notlar[:2000] index sonuna kadar gidip istifa etmek asjdksaşlmdlsakd istifa yazmışım bitirmek\n",
    "#length'i .len ile alıyosun append ile de sonuna ekliyosun\n",
    "#extend ile yeni array ekleyebiliyorsun direkt index[0] a eleman eklediğinde diğerlerini sağa kaydırıyor insert methodu ile yapıyosun\n",
    "#remove ile silmece ilk gördüğünü siliyo pop ile de belli indexteki değeri silmene yarıyo ayrıca sildiği indexteki değeri de dönüyor\n",
    "#count ile listedeki değer kaç tane var diye bakabilirsin\n",
    "#alising l1=l2 dediğin zaman ikisinin de aynı etiket olmasını sağlıyor böylelikle l2 de değişiklik olunca l1 de etkileniyor\n",
    "#birebir kopyalamak istersem l1=l2.copy demem lazım ki l1 aynı değerler olsun l2 güncellemesi l1 i etkilemesin\n",
    "#listede + operatörü concat yapıyor\n",
    "#elemanın indexini bulmak ilk görülenin indexini liste.index(4) gibi bulabilirsin\n",
    "#inplace olduğu yerde listeye müdahale l.reverse() listeyi terse çevirir olduğu yerde\n",
    "#sorted ile de listeyi küçükten büyüğe sıralıyo inplace güncellenme değilmiş\n",
    "#l.sort() deyince inplace güncelliyor\n",
    "# TUPLE\n",
    "#bunlar immutable yani içindeki değeri değiştiremiyorsun\n",
    "#NON SCALAR FOR\n",
    "#for e in notlar(LİST,TUPLE,DİCTİONARY)\n",
    "#for i in range(0,4,2)\n",
    "#for k,v in d.items()\n",
    "#LİST COMPREHENSIONS\n",
    "#squares=[i*i(function da olabilir burada yeterki sayı vs gibi bi şey dönsün) for i in range(1,11]\n",
    "#cubes[cube(x) for x in range (1,11]\n",
    "#oddSquares=[e for e in squares (if e%2==1)BURASI DA FONKSIYON OLABILIR]\n",
    "   \n"
   ]
  },
  {
   "cell_type": "code",
   "execution_count": 17,
   "id": "19b1317c-8670-43b1-a4d0-2731083ebcd4",
   "metadata": {},
   "outputs": [
    {
     "name": "stdout",
     "output_type": "stream",
     "text": [
      "Minimum Distance = 4.242640687119285\n"
     ]
    }
   ],
   "source": [
    "import math\n",
    "points=[(1,2),(-3,4),(4,5)]\n",
    "distances=[]\n",
    "def euclideanDistance(point1,point2):\n",
    "    return math.sqrt((point2[0]-point1[0])**2+(point2[1]-point1[1])**2)\n",
    "for i in range(len(points)):\n",
    "    for j in range(i+1,len(points)):\n",
    "        distances.append(euclideanDistance(points[i],points[j]))\n",
    "print (f\"Minimum Distance = {min(distances)}\")"
   ]
  },
  {
   "cell_type": "code",
   "execution_count": null,
   "id": "57bfba28-6b26-47ed-aab9-e42542955dd6",
   "metadata": {},
   "outputs": [],
   "source": []
  },
  {
   "cell_type": "code",
   "execution_count": null,
   "id": "802892b3-2e96-4284-b9f4-9401d2aa658c",
   "metadata": {},
   "outputs": [],
   "source": []
  }
 ],
 "metadata": {
  "kernelspec": {
   "display_name": "Python 3 (ipykernel)",
   "language": "python",
   "name": "python3"
  },
  "language_info": {
   "codemirror_mode": {
    "name": "ipython",
    "version": 3
   },
   "file_extension": ".py",
   "mimetype": "text/x-python",
   "name": "python",
   "nbconvert_exporter": "python",
   "pygments_lexer": "ipython3",
   "version": "3.12.3"
  }
 },
 "nbformat": 4,
 "nbformat_minor": 5
}
